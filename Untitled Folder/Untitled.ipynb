{
 "cells": [
  {
   "cell_type": "code",
   "execution_count": 7,
   "metadata": {
    "collapsed": false
   },
   "outputs": [
    {
     "name": "stdout",
     "output_type": "stream",
     "text": [
      "Collecting qiskit\n",
      "  Using cached https://files.pythonhosted.org/packages/c5/28/4145dc6eb43ff5bd64099218a853afa53c528ef3a4abe2f7caf37a405469/qiskit-0.16.1.tar.gz\n",
      "Collecting qiskit-terra==0.12.0 (from qiskit)\n",
      "  Using cached https://files.pythonhosted.org/packages/a4/0a/48de529254efa41cd98394ea855530e80f6ada73807441fd767c6c511e84/qiskit_terra-0.12.0-cp36-cp36m-manylinux1_x86_64.whl\n",
      "Collecting qiskit-aer==0.4.1 (from qiskit)\n",
      "  Using cached https://files.pythonhosted.org/packages/9b/29/4ba88cb69aff07fe5785c54d1c196e628a7e5e9a85e69fbc85055c56ac4a/qiskit-aer-0.4.1.tar.gz\n",
      "    Complete output from command python setup.py egg_info:\n",
      "    Collecting scikit-build\n",
      "      Using cached https://files.pythonhosted.org/packages/8a/b5/c6ca60421991c22e69b9a950b0d046e06d714f79f7071946ab885c7115fb/scikit_build-0.10.0-py2.py3-none-any.whl\n",
      "    Collecting packaging (from scikit-build)\n",
      "      Using cached https://files.pythonhosted.org/packages/62/0a/34641d2bf5c917c96db0ded85ae4da25b6cd922d6b794648d4e7e07c88e5/packaging-20.3-py2.py3-none-any.whl\n",
      "    Requirement already satisfied: setuptools>=28.0.0 in /gpfs1/arch/spack-0.12.0-1/opt/spack/linux-rhel7-x86_64/gcc-7.3.0/python-3.6.5-virw5ivp6rthnxug2uegbv52qjm3adhk/lib/python3.6/site-packages (from scikit-build) (40.4.3)\n",
      "    Requirement already satisfied: wheel>=0.29.0 in /gpfs1/arch/x86_64-rhel7/python-tf-3.6-ext/site-packages (from scikit-build) (0.33.6)\n",
      "    Requirement already satisfied: pyparsing>=2.0.2 in /gpfs1/arch/spack-0.12.0-1/opt/spack/linux-rhel7-x86_64/gcc-7.3.0/python-3.6.5-virw5ivp6rthnxug2uegbv52qjm3adhk/lib/python3.6/site-packages (from packaging->scikit-build) (2.2.0)\n",
      "    Requirement already satisfied: six in /gpfs1/arch/spack-0.12.0-1/opt/spack/linux-rhel7-x86_64/gcc-7.3.0/python-3.6.5-virw5ivp6rthnxug2uegbv52qjm3adhk/lib/python3.6/site-packages (from packaging->scikit-build) (1.11.0)\n",
      "    Installing collected packages: packaging, scikit-build\n",
      "    Could not install packages due to an EnvironmentError: [Errno 13] Permission denied: '/gpfs1/arch/spack-0.12.0-1/opt/spack/linux-rhel7-x86_64/gcc-7.3.0/python-3.6.5-virw5ivp6rthnxug2uegbv52qjm3adhk/lib/python3.6/site-packages/packaging-20.3.dist-info'\n",
      "    Consider using the `--user` option or check the permissions.\n",
      "    \n",
      "    Traceback (most recent call last):\n",
      "      File \"/tmp/pip-install-fh9ve8ao/qiskit-aer/setup.py\", line 13, in <module>\n",
      "        from skbuild import setup\n",
      "    ModuleNotFoundError: No module named 'skbuild'\n",
      "    \n",
      "    During handling of the above exception, another exception occurred:\n",
      "    \n",
      "    Traceback (most recent call last):\n",
      "      File \"<string>\", line 1, in <module>\n",
      "      File \"/tmp/pip-install-fh9ve8ao/qiskit-aer/setup.py\", line 16, in <module>\n",
      "        from skbuild import setup\n",
      "    ModuleNotFoundError: No module named 'skbuild'\n",
      "    \n",
      "    ----------------------------------------\n",
      "\u001b[31mCommand \"python setup.py egg_info\" failed with error code 1 in /tmp/pip-install-fh9ve8ao/qiskit-aer/\u001b[0m\n",
      "Collecting qiskit-terra[visualization]\n",
      "  Using cached https://files.pythonhosted.org/packages/a4/0a/48de529254efa41cd98394ea855530e80f6ada73807441fd767c6c511e84/qiskit_terra-0.12.0-cp36-cp36m-manylinux1_x86_64.whl\n",
      "Collecting ply>=3.10 (from qiskit-terra[visualization])\n",
      "  Using cached https://files.pythonhosted.org/packages/a3/58/35da89ee790598a0700ea49b2a66594140f44dec458c07e8e3d4979137fc/ply-3.11-py2.py3-none-any.whl\n",
      "Collecting marshmallow-polyfield<6,>=5.7 (from qiskit-terra[visualization])\n",
      "  Using cached https://files.pythonhosted.org/packages/b5/9a/8c303051f9d0f844c06b8d607f7578a2ac9aec2ffe02947fea5d5ba589d8/marshmallow_polyfield-5.8-py3-none-any.whl\n",
      "Collecting psutil>=5 (from qiskit-terra[visualization])\n",
      "Requirement already satisfied: scipy>=1.0 in /gpfs1/arch/spack-0.12.0-1/opt/spack/linux-rhel7-x86_64/gcc-7.3.0/python-3.6.5-virw5ivp6rthnxug2uegbv52qjm3adhk/lib/python3.6/site-packages (from qiskit-terra[visualization]) (1.1.0)\n",
      "Collecting dill>=0.3 (from qiskit-terra[visualization])\n",
      "Collecting networkx>=2.2; python_version > \"3.5\" (from qiskit-terra[visualization])\n",
      "  Using cached https://files.pythonhosted.org/packages/41/8f/dd6a8e85946def36e4f2c69c84219af0fa5e832b018c970e92f2ad337e45/networkx-2.4-py3-none-any.whl\n",
      "Collecting jsonschema>=2.6 (from qiskit-terra[visualization])\n",
      "  Using cached https://files.pythonhosted.org/packages/c5/8f/51e89ce52a085483359217bc72cdbf6e75ee595d5b1d4b5ade40c7e018b8/jsonschema-3.2.0-py2.py3-none-any.whl\n",
      "Requirement already satisfied: numpy>=1.13 in /gpfs1/arch/spack-0.12.0-1/opt/spack/linux-rhel7-x86_64/gcc-7.3.0/python-3.6.5-virw5ivp6rthnxug2uegbv52qjm3adhk/lib/python3.6/site-packages (from qiskit-terra[visualization]) (1.17.0)\n",
      "Collecting sympy>=1.3 (from qiskit-terra[visualization])\n",
      "  Using cached https://files.pythonhosted.org/packages/ce/5b/acc12e3c0d0be685601fc2b2d20ed18dc0bf461380e763afc9d0a548deb0/sympy-1.5.1-py2.py3-none-any.whl\n",
      "Collecting marshmallow<4,>=3 (from qiskit-terra[visualization])\n",
      "  Using cached https://files.pythonhosted.org/packages/d8/0b/bb43d7610e71d87e8537025841c248471dbf938c676d32b8f94c82148c04/marshmallow-3.5.1-py2.py3-none-any.whl\n",
      "Requirement already satisfied: matplotlib>=2.1; extra == \"visualization\" in /gpfs1/arch/spack-0.12.0-1/opt/spack/linux-rhel7-x86_64/gcc-7.3.0/python-3.6.5-virw5ivp6rthnxug2uegbv52qjm3adhk/lib/python3.6/site-packages (from qiskit-terra[visualization]) (3.1.1)\n",
      "Collecting ipywidgets>=7.3.0; extra == \"visualization\" (from qiskit-terra[visualization])\n",
      "  Using cached https://files.pythonhosted.org/packages/56/a0/dbcf5881bb2f51e8db678211907f16ea0a182b232c591a6d6f276985ca95/ipywidgets-7.5.1-py2.py3-none-any.whl\n",
      "Collecting pydot; extra == \"visualization\" (from qiskit-terra[visualization])\n",
      "  Using cached https://files.pythonhosted.org/packages/33/d1/b1479a770f66d962f545c2101630ce1d5592d90cb4f083d38862e93d16d2/pydot-1.4.1-py2.py3-none-any.whl\n",
      "Collecting seaborn>=0.9.0; extra == \"visualization\" (from qiskit-terra[visualization])\n",
      "  Using cached https://files.pythonhosted.org/packages/70/bd/5e6bf595fe6ee0f257ae49336dd180768c1ed3d7c7155b2fdf894c1c808a/seaborn-0.10.0-py3-none-any.whl\n",
      "Requirement already satisfied: pillow>=4.2.1; extra == \"visualization\" in /gpfs1/arch/spack-0.12.0-1/opt/spack/linux-rhel7-x86_64/gcc-7.3.0/python-3.6.5-virw5ivp6rthnxug2uegbv52qjm3adhk/lib/python3.6/site-packages (from qiskit-terra[visualization]) (5.1.0)\n",
      "Collecting pylatexenc>=1.4; extra == \"visualization\" (from qiskit-terra[visualization])\n",
      "Requirement already satisfied: decorator>=4.3.0 in /gpfs1/arch/spack-0.12.0-1/opt/spack/linux-rhel7-x86_64/gcc-7.3.0/python-3.6.5-virw5ivp6rthnxug2uegbv52qjm3adhk/lib/python3.6/site-packages (from networkx>=2.2; python_version > \"3.5\"->qiskit-terra[visualization]) (4.3.0)\n",
      "Collecting importlib-metadata; python_version < \"3.8\" (from jsonschema>=2.6->qiskit-terra[visualization])\n",
      "  Using cached https://files.pythonhosted.org/packages/8b/03/a00d504808808912751e64ccf414be53c29cad620e3de2421135fcae3025/importlib_metadata-1.5.0-py2.py3-none-any.whl\n",
      "Collecting pyrsistent>=0.14.0 (from jsonschema>=2.6->qiskit-terra[visualization])\n",
      "Requirement already satisfied: setuptools in /gpfs1/arch/spack-0.12.0-1/opt/spack/linux-rhel7-x86_64/gcc-7.3.0/python-3.6.5-virw5ivp6rthnxug2uegbv52qjm3adhk/lib/python3.6/site-packages (from jsonschema>=2.6->qiskit-terra[visualization]) (40.4.3)\n",
      "Collecting attrs>=17.4.0 (from jsonschema>=2.6->qiskit-terra[visualization])\n",
      "  Using cached https://files.pythonhosted.org/packages/a2/db/4313ab3be961f7a763066401fb77f7748373b6094076ae2bda2806988af6/attrs-19.3.0-py2.py3-none-any.whl\n",
      "Requirement already satisfied: six>=1.11.0 in /gpfs1/arch/spack-0.12.0-1/opt/spack/linux-rhel7-x86_64/gcc-7.3.0/python-3.6.5-virw5ivp6rthnxug2uegbv52qjm3adhk/lib/python3.6/site-packages (from jsonschema>=2.6->qiskit-terra[visualization]) (1.11.0)\n",
      "Collecting mpmath>=0.19 (from sympy>=1.3->qiskit-terra[visualization])\n",
      "Requirement already satisfied: cycler>=0.10 in /gpfs1/arch/spack-0.12.0-1/opt/spack/linux-rhel7-x86_64/gcc-7.3.0/python-3.6.5-virw5ivp6rthnxug2uegbv52qjm3adhk/lib/python3.6/site-packages (from matplotlib>=2.1; extra == \"visualization\"->qiskit-terra[visualization]) (0.10.0)\n",
      "Requirement already satisfied: kiwisolver>=1.0.1 in /gpfs1/arch/spack-0.12.0-1/opt/spack/linux-rhel7-x86_64/gcc-7.3.0/python-3.6.5-virw5ivp6rthnxug2uegbv52qjm3adhk/lib/python3.6/site-packages (from matplotlib>=2.1; extra == \"visualization\"->qiskit-terra[visualization]) (1.0.1)\n",
      "Requirement already satisfied: pyparsing!=2.0.4,!=2.1.2,!=2.1.6,>=2.0.1 in /gpfs1/arch/spack-0.12.0-1/opt/spack/linux-rhel7-x86_64/gcc-7.3.0/python-3.6.5-virw5ivp6rthnxug2uegbv52qjm3adhk/lib/python3.6/site-packages (from matplotlib>=2.1; extra == \"visualization\"->qiskit-terra[visualization]) (2.2.0)\n",
      "Requirement already satisfied: python-dateutil>=2.1 in /gpfs1/arch/spack-0.12.0-1/opt/spack/linux-rhel7-x86_64/gcc-7.3.0/python-3.6.5-virw5ivp6rthnxug2uegbv52qjm3adhk/lib/python3.6/site-packages (from matplotlib>=2.1; extra == \"visualization\"->qiskit-terra[visualization]) (2.5.2)\n",
      "Collecting widgetsnbextension~=3.5.0 (from ipywidgets>=7.3.0; extra == \"visualization\"->qiskit-terra[visualization])\n",
      "  Using cached https://files.pythonhosted.org/packages/6c/7b/7ac231c20d2d33c445eaacf8a433f4e22c60677eb9776c7c5262d7ddee2d/widgetsnbextension-3.5.1-py2.py3-none-any.whl\n",
      "Requirement already satisfied: traitlets>=4.3.1 in /gpfs1/arch/spack-0.12.0-1/opt/spack/linux-rhel7-x86_64/gcc-7.3.0/python-3.6.5-virw5ivp6rthnxug2uegbv52qjm3adhk/lib/python3.6/site-packages (from ipywidgets>=7.3.0; extra == \"visualization\"->qiskit-terra[visualization]) (4.3.1)\n",
      "Requirement already satisfied: ipython>=4.0.0; python_version >= \"3.3\" in /gpfs1/arch/spack-0.12.0-1/opt/spack/linux-rhel7-x86_64/gcc-7.3.0/py-ipython-5.1.0-vnyt7r3hl3nyyjzor2elbomfpbp4jk47/lib/python2.7/site-packages (from ipywidgets>=7.3.0; extra == \"visualization\"->qiskit-terra[visualization]) (5.1.0)\n",
      "Collecting ipykernel>=4.5.1 (from ipywidgets>=7.3.0; extra == \"visualization\"->qiskit-terra[visualization])\n",
      "  Using cached https://files.pythonhosted.org/packages/d7/62/d1a5d654b7a21bd3eb99be1b59a608cc18a7a08ed88495457a87c40a0495/ipykernel-5.1.4-py3-none-any.whl\n",
      "Collecting nbformat>=4.2.0 (from ipywidgets>=7.3.0; extra == \"visualization\"->qiskit-terra[visualization])\n",
      "  Using cached https://files.pythonhosted.org/packages/ac/eb/de575b7a64e7ab8d8c95e4c180ccc36deda3f1379186c4ee7adf6c2f1586/nbformat-5.0.4-py3-none-any.whl\n",
      "Collecting pandas>=0.22.0 (from seaborn>=0.9.0; extra == \"visualization\"->qiskit-terra[visualization])\n",
      "  Using cached https://files.pythonhosted.org/packages/08/ec/b5dd8cfb078380fb5ae9325771146bccd4e8cad2d3e4c72c7433010684eb/pandas-1.0.1-cp36-cp36m-manylinux1_x86_64.whl\n",
      "Collecting zipp>=0.5 (from importlib-metadata; python_version < \"3.8\"->jsonschema>=2.6->qiskit-terra[visualization])\n",
      "  Using cached https://files.pythonhosted.org/packages/b2/34/bfcb43cc0ba81f527bc4f40ef41ba2ff4080e047acb0586b56b3d017ace4/zipp-3.1.0-py3-none-any.whl\n",
      "Collecting notebook>=4.4.1 (from widgetsnbextension~=3.5.0->ipywidgets>=7.3.0; extra == \"visualization\"->qiskit-terra[visualization])\n",
      "  Using cached https://files.pythonhosted.org/packages/b1/f1/0a67f09ef53a342403ffa66646ee39273e0ac79ffa5de5dbe2f3e28b5bdf/notebook-6.0.3-py3-none-any.whl\n",
      "Requirement already satisfied: jupyter-client in /gpfs1/arch/spack-0.12.0-1/opt/spack/linux-rhel7-x86_64/gcc-7.3.0/python-3.6.5-virw5ivp6rthnxug2uegbv52qjm3adhk/lib/python3.6/site-packages (from ipykernel>=4.5.1->ipywidgets>=7.3.0; extra == \"visualization\"->qiskit-terra[visualization]) (4.4.0)\n",
      "Requirement already satisfied: tornado>=4.2 in /gpfs1/arch/spack-0.12.0-1/opt/spack/linux-rhel7-x86_64/gcc-7.3.0/python-3.6.5-virw5ivp6rthnxug2uegbv52qjm3adhk/lib/python3.6/site-packages (from ipykernel>=4.5.1->ipywidgets>=7.3.0; extra == \"visualization\"->qiskit-terra[visualization]) (4.4)\n",
      "Requirement already satisfied: ipython-genutils in /gpfs1/arch/spack-0.12.0-1/opt/spack/linux-rhel7-x86_64/gcc-7.3.0/python-3.6.5-virw5ivp6rthnxug2uegbv52qjm3adhk/lib/python3.6/site-packages (from nbformat>=4.2.0->ipywidgets>=7.3.0; extra == \"visualization\"->qiskit-terra[visualization]) (0.1.0)\n",
      "Requirement already satisfied: jupyter-core in /gpfs1/arch/spack-0.12.0-1/opt/spack/linux-rhel7-x86_64/gcc-7.3.0/python-3.6.5-virw5ivp6rthnxug2uegbv52qjm3adhk/lib/python3.6/site-packages (from nbformat>=4.2.0->ipywidgets>=7.3.0; extra == \"visualization\"->qiskit-terra[visualization]) (4.2.0)\n",
      "Requirement already satisfied: pytz>=2017.2 in /gpfs1/arch/spack-0.12.0-1/opt/spack/linux-rhel7-x86_64/gcc-7.3.0/python-3.6.5-virw5ivp6rthnxug2uegbv52qjm3adhk/lib/python3.6/site-packages (from pandas>=0.22.0->seaborn>=0.9.0; extra == \"visualization\"->qiskit-terra[visualization]) (2017.2)\n",
      "Collecting jinja2 (from notebook>=4.4.1->widgetsnbextension~=3.5.0->ipywidgets>=7.3.0; extra == \"visualization\"->qiskit-terra[visualization])\n",
      "  Using cached https://files.pythonhosted.org/packages/27/24/4f35961e5c669e96f6559760042a55b9bcfcdb82b9bdb3c8753dbe042e35/Jinja2-2.11.1-py2.py3-none-any.whl\n",
      "Collecting terminado>=0.8.1 (from notebook>=4.4.1->widgetsnbextension~=3.5.0->ipywidgets>=7.3.0; extra == \"visualization\"->qiskit-terra[visualization])\n",
      "  Using cached https://files.pythonhosted.org/packages/ff/96/1d9a2c23990aea8f8e0b5c3b6627d03196a73771a17a2d9860bbe9823ab6/terminado-0.8.3-py2.py3-none-any.whl\n",
      "Collecting pyzmq>=17 (from notebook>=4.4.1->widgetsnbextension~=3.5.0->ipywidgets>=7.3.0; extra == \"visualization\"->qiskit-terra[visualization])\n",
      "  Using cached https://files.pythonhosted.org/packages/41/fa/e6e10410f01b03d10ab0705717d1246f63cdbbc0676140c78f0f757db332/pyzmq-19.0.0-cp36-cp36m-manylinux1_x86_64.whl\n",
      "Collecting Send2Trash (from notebook>=4.4.1->widgetsnbextension~=3.5.0->ipywidgets>=7.3.0; extra == \"visualization\"->qiskit-terra[visualization])\n",
      "  Using cached https://files.pythonhosted.org/packages/49/46/c3dc27481d1cc57b9385aff41c474ceb7714f7935b1247194adae45db714/Send2Trash-1.5.0-py3-none-any.whl\n",
      "Collecting nbconvert (from notebook>=4.4.1->widgetsnbextension~=3.5.0->ipywidgets>=7.3.0; extra == \"visualization\"->qiskit-terra[visualization])\n",
      "  Using cached https://files.pythonhosted.org/packages/79/6c/05a569e9f703d18aacb89b7ad6075b404e8a4afde2c26b73ca77bb644b14/nbconvert-5.6.1-py2.py3-none-any.whl\n",
      "Collecting prometheus-client (from notebook>=4.4.1->widgetsnbextension~=3.5.0->ipywidgets>=7.3.0; extra == \"visualization\"->qiskit-terra[visualization])\n",
      "Collecting MarkupSafe>=0.23 (from jinja2->notebook>=4.4.1->widgetsnbextension~=3.5.0->ipywidgets>=7.3.0; extra == \"visualization\"->qiskit-terra[visualization])\n",
      "  Using cached https://files.pythonhosted.org/packages/b2/5f/23e0023be6bb885d00ffbefad2942bc51a620328ee910f64abe5a8d18dd1/MarkupSafe-1.1.1-cp36-cp36m-manylinux1_x86_64.whl\n",
      "Requirement already satisfied: ptyprocess; os_name != \"nt\" in /gpfs1/arch/spack-0.12.0-1/opt/spack/linux-rhel7-x86_64/gcc-7.3.0/python-3.6.5-virw5ivp6rthnxug2uegbv52qjm3adhk/lib/python3.6/site-packages (from terminado>=0.8.1->notebook>=4.4.1->widgetsnbextension~=3.5.0->ipywidgets>=7.3.0; extra == \"visualization\"->qiskit-terra[visualization]) (0.5.1)\n",
      "Collecting entrypoints>=0.2.2 (from nbconvert->notebook>=4.4.1->widgetsnbextension~=3.5.0->ipywidgets>=7.3.0; extra == \"visualization\"->qiskit-terra[visualization])\n",
      "  Using cached https://files.pythonhosted.org/packages/ac/c6/44694103f8c221443ee6b0041f69e2740d89a25641e62fb4f2ee568f2f9c/entrypoints-0.3-py2.py3-none-any.whl\n",
      "Collecting bleach (from nbconvert->notebook>=4.4.1->widgetsnbextension~=3.5.0->ipywidgets>=7.3.0; extra == \"visualization\"->qiskit-terra[visualization])\n",
      "  Using cached https://files.pythonhosted.org/packages/6e/87/f88b0e33914420fe11fe8b820c10d045a342c2a015e79ad8309de4bba820/bleach-3.1.1-py2.py3-none-any.whl\n",
      "Collecting testpath (from nbconvert->notebook>=4.4.1->widgetsnbextension~=3.5.0->ipywidgets>=7.3.0; extra == \"visualization\"->qiskit-terra[visualization])\n",
      "  Using cached https://files.pythonhosted.org/packages/1b/9e/1a170feaa54f22aeb5a5d16c9015e82234275a3c8ab630b552493f9cb8a9/testpath-0.4.4-py2.py3-none-any.whl\n",
      "Collecting defusedxml (from nbconvert->notebook>=4.4.1->widgetsnbextension~=3.5.0->ipywidgets>=7.3.0; extra == \"visualization\"->qiskit-terra[visualization])\n",
      "  Using cached https://files.pythonhosted.org/packages/06/74/9b387472866358ebc08732de3da6dc48e44b0aacd2ddaa5cb85ab7e986a2/defusedxml-0.6.0-py2.py3-none-any.whl\n",
      "Collecting mistune<2,>=0.8.1 (from nbconvert->notebook>=4.4.1->widgetsnbextension~=3.5.0->ipywidgets>=7.3.0; extra == \"visualization\"->qiskit-terra[visualization])\n",
      "  Using cached https://files.pythonhosted.org/packages/09/ec/4b43dae793655b7d8a25f76119624350b4d65eb663459eb9603d7f1f0345/mistune-0.8.4-py2.py3-none-any.whl\n",
      "Collecting pandocfilters>=1.4.1 (from nbconvert->notebook>=4.4.1->widgetsnbextension~=3.5.0->ipywidgets>=7.3.0; extra == \"visualization\"->qiskit-terra[visualization])\n",
      "Requirement already satisfied: pygments in /gpfs1/arch/spack-0.12.0-1/opt/spack/linux-rhel7-x86_64/gcc-7.3.0/python-3.6.5-virw5ivp6rthnxug2uegbv52qjm3adhk/lib/python3.6/site-packages (from nbconvert->notebook>=4.4.1->widgetsnbextension~=3.5.0->ipywidgets>=7.3.0; extra == \"visualization\"->qiskit-terra[visualization]) (2.2.0)\n",
      "Collecting webencodings (from bleach->nbconvert->notebook>=4.4.1->widgetsnbextension~=3.5.0->ipywidgets>=7.3.0; extra == \"visualization\"->qiskit-terra[visualization])\n",
      "  Using cached https://files.pythonhosted.org/packages/f4/24/2a3e3df732393fed8b3ebf2ec078f05546de641fe1b667ee316ec1dcf3b7/webencodings-0.5.1-py2.py3-none-any.whl\n",
      "\u001b[31mnotebook 6.0.3 has requirement jupyter-client>=5.3.4, but you'll have jupyter-client 4.4.0 which is incompatible.\u001b[0m\n",
      "\u001b[31mnotebook 6.0.3 has requirement jupyter-core>=4.6.1, but you'll have jupyter-core 4.2.0 which is incompatible.\u001b[0m\n",
      "\u001b[31mnotebook 6.0.3 has requirement tornado>=5.0, but you'll have tornado 4.4 which is incompatible.\u001b[0m\n",
      "\u001b[31mpandas 1.0.1 has requirement python-dateutil>=2.6.1, but you'll have python-dateutil 2.5.2 which is incompatible.\u001b[0m\n",
      "Installing collected packages: ply, marshmallow, marshmallow-polyfield, psutil, dill, networkx, zipp, importlib-metadata, pyrsistent, attrs, jsonschema, mpmath, sympy, ipykernel, nbformat, MarkupSafe, jinja2, terminado, pyzmq, Send2Trash, entrypoints, webencodings, bleach, testpath, defusedxml, mistune, pandocfilters, nbconvert, prometheus-client, notebook, widgetsnbextension, ipywidgets, pydot, pandas, seaborn, pylatexenc, qiskit-terra\n",
      "Successfully installed MarkupSafe-1.1.1 Send2Trash-1.5.0 attrs-19.3.0 bleach-3.1.1 defusedxml-0.6.0 dill-0.3.1.1 entrypoints-0.3 importlib-metadata-1.5.0 ipykernel-5.1.4 ipywidgets-7.5.1 jinja2-2.11.1 jsonschema-3.2.0 marshmallow-3.5.1 marshmallow-polyfield-5.8 mistune-0.8.4 mpmath-1.1.0 nbconvert-5.6.1 nbformat-5.0.4 networkx-2.4 notebook-6.0.3 pandas-1.0.1 pandocfilters-1.4.2 ply-3.11 prometheus-client-0.7.1 psutil-5.7.0 pydot-1.4.1 pylatexenc-2.1 pyrsistent-0.15.7 pyzmq-19.0.0 qiskit-terra-0.12.0 seaborn-0.10.0 sympy-1.5.1 terminado-0.8.3 testpath-0.4.4 webencodings-0.5.1 widgetsnbextension-3.5.1 zipp-3.1.0\n"
     ]
    }
   ],
   "source": [
    "import sys\n",
    "!{sys.executable} -m pip install qiskit --user\n",
    "!{sys.executable} -m pip install qiskit-terra[visualization] --user"
   ]
  },
  {
   "cell_type": "code",
   "execution_count": 5,
   "metadata": {
    "collapsed": false
   },
   "outputs": [
    {
     "ename": "ModuleNotFoundError",
     "evalue": "No module named 'qiskit'",
     "output_type": "error",
     "traceback": [
      "\u001b[0;31m---------------------------------------------------------------------------\u001b[0m",
      "\u001b[0;31mModuleNotFoundError\u001b[0m                       Traceback (most recent call last)",
      "\u001b[0;32m<ipython-input-5-548d6d48fcf8>\u001b[0m in \u001b[0;36m<module>\u001b[0;34m()\u001b[0m\n\u001b[0;32m----> 1\u001b[0;31m \u001b[0;32mimport\u001b[0m \u001b[0mqiskit\u001b[0m\u001b[0;34m\u001b[0m\u001b[0m\n\u001b[0m",
      "\u001b[0;31mModuleNotFoundError\u001b[0m: No module named 'qiskit'"
     ]
    }
   ],
   "source": [
    "import qiskit \n"
   ]
  },
  {
   "cell_type": "code",
   "execution_count": null,
   "metadata": {
    "collapsed": true
   },
   "outputs": [],
   "source": []
  }
 ],
 "metadata": {
  "kernelspec": {
   "display_name": "Python 3",
   "language": "python",
   "name": "python3"
  },
  "language_info": {
   "codemirror_mode": {
    "name": "ipython",
    "version": 3
   },
   "file_extension": ".py",
   "mimetype": "text/x-python",
   "name": "python",
   "nbconvert_exporter": "python",
   "pygments_lexer": "ipython3",
   "version": "3.6.5"
  }
 },
 "nbformat": 4,
 "nbformat_minor": 1
}
